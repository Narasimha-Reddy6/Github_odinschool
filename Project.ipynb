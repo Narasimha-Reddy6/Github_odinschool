{
  "nbformat": 4,
  "nbformat_minor": 0,
  "metadata": {
    "colab": {
      "provenance": []
    },
    "kernelspec": {
      "name": "python3",
      "display_name": "Python 3"
    },
    "language_info": {
      "name": "python"
    }
  },
  "cells": [
    {
      "cell_type": "code",
      "execution_count": 1,
      "metadata": {
        "colab": {
          "base_uri": "https://localhost:8080/"
        },
        "id": "5n-7l_Cyn5AK",
        "outputId": "38a6d2c2-1723-4072-8ed3-e60603e681bf"
      },
      "outputs": [
        {
          "output_type": "stream",
          "name": "stdout",
          "text": [
            "Naveen\n"
          ]
        }
      ],
      "source": [
        "print(\"Naveen\")"
      ]
    }
  ]
}